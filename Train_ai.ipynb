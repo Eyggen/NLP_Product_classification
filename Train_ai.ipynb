{
 "cells": [
  {
   "cell_type": "markdown",
   "id": "8f1bee8e",
   "metadata": {},
   "source": [
    "# Import libs"
   ]
  },
  {
   "cell_type": "code",
   "execution_count": 1,
   "id": "3b9b5a17",
   "metadata": {},
   "outputs": [
    {
     "name": "stdout",
     "output_type": "stream",
     "text": [
      "Defaulting to user installation because normal site-packages is not writeable\n",
      "Collecting git+https://github.com/Desklop/Uk_Stemmer\n",
      "  Cloning https://github.com/Desklop/Uk_Stemmer to c:\\users\\eyggen\\appdata\\local\\temp\\pip-req-build-ujodk5m4\n",
      "  Resolved https://github.com/Desklop/Uk_Stemmer to commit a700ae1bd9b69ad84d311d089e8bc95ab7fab44d\n"
     ]
    },
    {
     "name": "stderr",
     "output_type": "stream",
     "text": [
      "  Running command git clone -q https://github.com/Desklop/Uk_Stemmer 'C:\\Users\\Eyggen\\AppData\\Local\\Temp\\pip-req-build-ujodk5m4'\n"
     ]
    }
   ],
   "source": [
    "!pip install git+https://github.com/Desklop/Uk_Stemmer"
   ]
  },
  {
   "cell_type": "code",
   "execution_count": 118,
   "id": "0b8392a4",
   "metadata": {},
   "outputs": [],
   "source": [
    "#import general libs\n",
    "import pandas as pd\n",
    "import csv\n",
    "import nltk\n",
    "import string\n",
    "import re\n",
    "from uk_stemmer import UkStemmer\n",
    "from nltk.stem import SnowballStemmer\n",
    "import numpy as np\n",
    "\n",
    "#import libs for train our models\n",
    "from sklearn.feature_extraction.text import TfidfVectorizer\n",
    "from sklearn.pipeline import Pipeline\n",
    "from sklearn.metrics import accuracy_score\n",
    "\n",
    "#import models libs\n",
    "from sklearn.naive_bayes import GaussianNB, MultinomialNB \n",
    "from sklearn.svm import SVC\n",
    "from sklearn.neighbors import KNeighborsClassifier\n",
    "from sklearn.linear_model import LogisticRegression\n",
    "from sklearn.ensemble import RandomForestClassifier\n",
    "from sklearn.tree import DecisionTreeClassifier"
   ]
  },
  {
   "cell_type": "markdown",
   "id": "9a877729",
   "metadata": {},
   "source": [
    "# Create dataset"
   ]
  },
  {
   "cell_type": "code",
   "execution_count": 74,
   "id": "d34df717",
   "metadata": {},
   "outputs": [],
   "source": [
    "train_df = pd.read_excel(\"train.xlsx\")\n",
    "test_df = pd.read_excel(\"test.xlsx\")"
   ]
  },
  {
   "cell_type": "code",
   "execution_count": 75,
   "id": "76e72005",
   "metadata": {},
   "outputs": [],
   "source": [
    "x_train = train_df[\"title\"]\n",
    "y_train = train_df[\"index\"]\n",
    "\n",
    "x_test = test_df[\"title\"]\n",
    "y_test = test_df[\"index\"]"
   ]
  },
  {
   "cell_type": "markdown",
   "id": "2e05a43d",
   "metadata": {},
   "source": [
    "### Create a vectorizer"
   ]
  },
  {
   "cell_type": "code",
   "execution_count": 76,
   "id": "c541628a",
   "metadata": {},
   "outputs": [],
   "source": [
    "snowball = SnowballStemmer(language='russian')\n",
    "stemmer = UkStemmer()\n",
    "test_x = {\"index\":0,\"title\":\"\"}\n",
    "test_x_ru = []\n",
    "test_x_ua = []\n",
    "\n",
    "def word_preprop(sentense):\n",
    "    prepare_test_string = sentense.lower()\n",
    "    words = re.split(r'(\\W)', prepare_test_string)\n",
    "    words = [word for word in words if word != ' ']\n",
    "    return words\n",
    "\n",
    "def tokenize_sentense(sentense):\n",
    "    words = word_preprop(sentense)\n",
    "    words = [snowball.stem(i) for i in words]\n",
    "    words = [stemmer.stem_word(i) for i in words]\n",
    "    return(words)\n",
    "    "
   ]
  },
  {
   "cell_type": "code",
   "execution_count": 77,
   "id": "f2b5961d",
   "metadata": {},
   "outputs": [],
   "source": [
    "vectorizer = TfidfVectorizer(tokenizer=lambda x: tokenize_sentense(x))\n",
    "features = vectorizer.fit_transform(train_df[\"title\"])"
   ]
  },
  {
   "cell_type": "code",
   "execution_count": 78,
   "id": "e62885ad",
   "metadata": {},
   "outputs": [],
   "source": [
    "def get_class_name(model, class_title):\n",
    "    class_names = {\n",
    "        0:\"Комп'ютерна техніка\",\n",
    "        1:\"Сматрфони і ТВ\",\n",
    "        2:\"Інструменти та автотовари\",\n",
    "        3:\"Сантехніка та ремонт\",\n",
    "        4:\"Побутова техніка\",\n",
    "        5:\"Товари для геймерів\",\n",
    "        6:\"Товари для дому\",\n",
    "        7:\"Спорт та захоплення\",\n",
    "        8:\"Офіс, школа, книги\",\n",
    "        9:\"Одяг, взуття та прикраси\",\n",
    "        10:\"Краса та здоров'я\",\n",
    "        11:\"Зоотовари\",\n",
    "        12:\"Дитячі товари\",\n",
    "        13:\"Дача, сад та товари для дому\",\n",
    "        14:\"Алкогольні напої, сигарети\",\n",
    "        15:\"Продукти харчування\",\n",
    "    }\n",
    "    return class_names[model.predict([class_title])[0]]"
   ]
  },
  {
   "cell_type": "markdown",
   "id": "f4fe6feb",
   "metadata": {},
   "source": [
    "## LogisticRegression"
   ]
  },
  {
   "cell_type": "code",
   "execution_count": 79,
   "id": "93decb53",
   "metadata": {},
   "outputs": [],
   "source": [
    "LogisticRegression_model_pipeline = Pipeline([\n",
    "    (\"vectorizer\", TfidfVectorizer(tokenizer=lambda x: tokenize_sentense(x))),\n",
    "    (\"model\", LogisticRegression(random_state=0))\n",
    "])"
   ]
  },
  {
   "cell_type": "code",
   "execution_count": 80,
   "id": "bc0393e8",
   "metadata": {},
   "outputs": [
    {
     "data": {
      "text/plain": [
       "Pipeline(steps=[('vectorizer',\n",
       "                 TfidfVectorizer(tokenizer=<function <lambda> at 0x000002149FD1BA60>)),\n",
       "                ('model', LogisticRegression(random_state=0))])"
      ]
     },
     "execution_count": 80,
     "metadata": {},
     "output_type": "execute_result"
    }
   ],
   "source": [
    "LogisticRegression_model_pipeline.fit(x_train, y_train)"
   ]
  },
  {
   "cell_type": "code",
   "execution_count": 81,
   "id": "6f2c2c55",
   "metadata": {},
   "outputs": [
    {
     "data": {
      "text/plain": [
       "'Одяг, взуття та прикраси'"
      ]
     },
     "execution_count": 81,
     "metadata": {},
     "output_type": "execute_result"
    }
   ],
   "source": [
    "get_class_name(LogisticRegression_model_pipeline, \"Одяг\")"
   ]
  },
  {
   "cell_type": "code",
   "execution_count": 82,
   "id": "f30157df",
   "metadata": {},
   "outputs": [
    {
     "data": {
      "text/plain": [
       "0.47619047619047616"
      ]
     },
     "execution_count": 82,
     "metadata": {},
     "output_type": "execute_result"
    }
   ],
   "source": [
    "LogisticRegression_prediction = LogisticRegression_model_pipeline.predict(test_df[\"title\"])\n",
    "accuracy_score(LogisticRegression_prediction, test_df[\"index\"])"
   ]
  },
  {
   "cell_type": "markdown",
   "id": "c71a3b06",
   "metadata": {},
   "source": [
    "## SVC "
   ]
  },
  {
   "cell_type": "code",
   "execution_count": 142,
   "id": "6c695fbf",
   "metadata": {},
   "outputs": [],
   "source": [
    "SVC_model_pipeline = Pipeline([\n",
    "    (\"vectorizer\", TfidfVectorizer(tokenizer=lambda x: tokenize_sentense(x))),\n",
    "    (\"model\", SVC(gamma=1, random_state=0, probability=True))\n",
    "])"
   ]
  },
  {
   "cell_type": "code",
   "execution_count": 143,
   "id": "dfb92b98",
   "metadata": {},
   "outputs": [
    {
     "data": {
      "text/plain": [
       "Pipeline(steps=[('vectorizer',\n",
       "                 TfidfVectorizer(tokenizer=<function <lambda> at 0x00000214A8615550>)),\n",
       "                ('model', SVC(gamma=1, probability=True, random_state=0))])"
      ]
     },
     "execution_count": 143,
     "metadata": {},
     "output_type": "execute_result"
    }
   ],
   "source": [
    "SVC_model_pipeline.fit(train_df[\"title\"], train_df[\"index\"])"
   ]
  },
  {
   "cell_type": "code",
   "execution_count": 144,
   "id": "cb94ce33",
   "metadata": {},
   "outputs": [
    {
     "data": {
      "text/plain": [
       "0.5952380952380952"
      ]
     },
     "execution_count": 144,
     "metadata": {},
     "output_type": "execute_result"
    }
   ],
   "source": [
    "SVC_prediction = SVC_model_pipeline.predict(test_df[\"title\"])\n",
    "accuracy_score(SVC_prediction, test_df[\"index\"])"
   ]
  },
  {
   "cell_type": "markdown",
   "id": "40a9f045",
   "metadata": {},
   "source": [
    "## KNN"
   ]
  },
  {
   "cell_type": "code",
   "execution_count": 113,
   "id": "2120cca0",
   "metadata": {},
   "outputs": [],
   "source": [
    "KNN_model_pipeline = Pipeline([\n",
    "    (\"vectorizer\", TfidfVectorizer(tokenizer=lambda x: tokenize_sentense(x))),\n",
    "    (\"model\", KNeighborsClassifier(n_neighbors=1))\n",
    "])\n"
   ]
  },
  {
   "cell_type": "code",
   "execution_count": 114,
   "id": "cd9c8a32",
   "metadata": {},
   "outputs": [
    {
     "data": {
      "text/plain": [
       "Pipeline(steps=[('vectorizer',\n",
       "                 TfidfVectorizer(tokenizer=<function <lambda> at 0x00000214A15C5670>)),\n",
       "                ('model', KNeighborsClassifier(n_neighbors=1))])"
      ]
     },
     "execution_count": 114,
     "metadata": {},
     "output_type": "execute_result"
    }
   ],
   "source": [
    "KNN_model_pipeline.fit(train_df[\"title\"], train_df[\"index\"])"
   ]
  },
  {
   "cell_type": "code",
   "execution_count": 115,
   "id": "16b29ac3",
   "metadata": {},
   "outputs": [
    {
     "data": {
      "text/plain": [
       "0.6190476190476191"
      ]
     },
     "execution_count": 115,
     "metadata": {},
     "output_type": "execute_result"
    }
   ],
   "source": [
    "KNN_prediction = KNN_model_pipeline.predict(test_df[\"title\"])\n",
    "accuracy_score(KNN_prediction, test_df[\"index\"])"
   ]
  },
  {
   "cell_type": "markdown",
   "id": "7755db45",
   "metadata": {},
   "source": [
    "## Naive bayes"
   ]
  },
  {
   "cell_type": "code",
   "execution_count": 89,
   "id": "1e8ce030",
   "metadata": {},
   "outputs": [],
   "source": [
    "GaussianNB_model_pipeline = Pipeline([\n",
    "    (\"vectorizer\", TfidfVectorizer(tokenizer=lambda x: tokenize_sentense(x))),\n",
    "    (\"model\", MultinomialNB())\n",
    "])"
   ]
  },
  {
   "cell_type": "code",
   "execution_count": 90,
   "id": "18f54027",
   "metadata": {},
   "outputs": [
    {
     "data": {
      "text/plain": [
       "Pipeline(steps=[('vectorizer',\n",
       "                 TfidfVectorizer(tokenizer=<function <lambda> at 0x000002149FD1B9D0>)),\n",
       "                ('model', MultinomialNB())])"
      ]
     },
     "execution_count": 90,
     "metadata": {},
     "output_type": "execute_result"
    }
   ],
   "source": [
    "GaussianNB_model_pipeline.fit(train_df[\"title\"], train_df[\"index\"])"
   ]
  },
  {
   "cell_type": "code",
   "execution_count": 91,
   "id": "d1cf0b61",
   "metadata": {},
   "outputs": [
    {
     "data": {
      "text/plain": [
       "0.38095238095238093"
      ]
     },
     "execution_count": 91,
     "metadata": {},
     "output_type": "execute_result"
    }
   ],
   "source": [
    "GaussianNB_prediction = GaussianNB_model_pipeline.predict(test_df[\"title\"])\n",
    "accuracy_score(GaussianNB_prediction, test_df[\"index\"])"
   ]
  },
  {
   "cell_type": "markdown",
   "id": "e93e8f7e",
   "metadata": {},
   "source": [
    "## RandomForestClassifier"
   ]
  },
  {
   "cell_type": "code",
   "execution_count": 92,
   "id": "8cb2060a",
   "metadata": {},
   "outputs": [],
   "source": [
    "RandomForestClassifier_model_pipeline = Pipeline([\n",
    "    (\"vectorizer\", TfidfVectorizer(tokenizer=lambda x: tokenize_sentense(x))),\n",
    "    (\"model\", RandomForestClassifier(random_state=0))\n",
    "])"
   ]
  },
  {
   "cell_type": "code",
   "execution_count": 93,
   "id": "1524f8eb",
   "metadata": {},
   "outputs": [
    {
     "data": {
      "text/plain": [
       "Pipeline(steps=[('vectorizer',\n",
       "                 TfidfVectorizer(tokenizer=<function <lambda> at 0x000002149FCE20D0>)),\n",
       "                ('model', RandomForestClassifier(random_state=0))])"
      ]
     },
     "execution_count": 93,
     "metadata": {},
     "output_type": "execute_result"
    }
   ],
   "source": [
    "RandomForestClassifier_model_pipeline.fit(train_df[\"title\"], train_df[\"index\"])"
   ]
  },
  {
   "cell_type": "code",
   "execution_count": 94,
   "id": "d1a7ed06",
   "metadata": {},
   "outputs": [
    {
     "data": {
      "text/plain": [
       "0.5714285714285714"
      ]
     },
     "execution_count": 94,
     "metadata": {},
     "output_type": "execute_result"
    }
   ],
   "source": [
    "RandomForestClassifier_prediction = RandomForestClassifier_model_pipeline.predict(test_df[\"title\"])\n",
    "accuracy_score(RandomForestClassifier_prediction, test_df[\"index\"])"
   ]
  },
  {
   "cell_type": "markdown",
   "id": "d83ce3d6",
   "metadata": {},
   "source": [
    "## DecisionTreeClassifier"
   ]
  },
  {
   "cell_type": "code",
   "execution_count": 95,
   "id": "75781ce8",
   "metadata": {},
   "outputs": [],
   "source": [
    "DecisionTreeClassifier_model_pipeline = Pipeline([\n",
    "    (\"vectorizer\", TfidfVectorizer(tokenizer=lambda x: tokenize_sentense(x))),\n",
    "    (\"model\", DecisionTreeClassifier(random_state=0))\n",
    "])"
   ]
  },
  {
   "cell_type": "code",
   "execution_count": 96,
   "id": "d5000423",
   "metadata": {},
   "outputs": [
    {
     "data": {
      "text/plain": [
       "Pipeline(steps=[('vectorizer',\n",
       "                 TfidfVectorizer(tokenizer=<function <lambda> at 0x000002149FD1BB80>)),\n",
       "                ('model', DecisionTreeClassifier(random_state=0))])"
      ]
     },
     "execution_count": 96,
     "metadata": {},
     "output_type": "execute_result"
    }
   ],
   "source": [
    "DecisionTreeClassifier_model_pipeline.fit(train_df[\"title\"], train_df[\"index\"])"
   ]
  },
  {
   "cell_type": "code",
   "execution_count": 97,
   "id": "0eed7ade",
   "metadata": {},
   "outputs": [
    {
     "data": {
      "text/plain": [
       "0.5714285714285714"
      ]
     },
     "execution_count": 97,
     "metadata": {},
     "output_type": "execute_result"
    }
   ],
   "source": [
    "DecisionTreeClassifier_prediction = DecisionTreeClassifier_model_pipeline.predict(test_df[\"title\"])\n",
    "accuracy_score(DecisionTreeClassifier_prediction, test_df[\"index\"])"
   ]
  },
  {
   "cell_type": "code",
   "execution_count": 131,
   "id": "a452ca7e",
   "metadata": {},
   "outputs": [
    {
     "name": "stdout",
     "output_type": "stream",
     "text": [
      "17\n",
      "0\n",
      "1.0\n"
     ]
    }
   ],
   "source": [
    "proc = KNN_model_pipeline.predict_proba([\"Принтер\"])[0]\n",
    "kef = np.argmax(proc)\n",
    "value = proc[kef]\n",
    "print(len(proc))\n",
    "print(kef)\n",
    "print(value)"
   ]
  },
  {
   "cell_type": "code",
   "execution_count": 145,
   "id": "187ee194",
   "metadata": {
    "scrolled": true
   },
   "outputs": [
    {
     "name": "stdout",
     "output_type": "stream",
     "text": [
      "Введіть річ: Килим\n",
      "[0.06072457 0.07914208 0.0948688  0.07068444 0.04240576 0.02420091\n",
      " 0.07822795 0.10794531 0.11340753 0.101434   0.03492644 0.03782962\n",
      " 0.04358511 0.03190642 0.02887787 0.04780174 0.00203146]\n",
      "8\n",
      "0.11340752818991928\n",
      "\n",
      "####################\n",
      "Не знаю\n",
      "Введіть річ: Молоко\n",
      "[0.0067015  0.00762016 0.01017935 0.00697554 0.00528608 0.00738725\n",
      " 0.00838022 0.00931855 0.00969829 0.00880912 0.00415799 0.005804\n",
      " 0.00489162 0.00551709 0.00709439 0.89126893 0.00090992]\n",
      "15\n",
      "0.8912689327353319\n",
      "\n",
      "####################\n",
      "Продукти харчування\n",
      "Введіть річ: Принтер\n",
      "[0.03420982 0.00764286 0.01590381 0.00455665 0.00367774 0.00686829\n",
      " 0.00622223 0.00603125 0.87995868 0.00546669 0.0027134  0.00310615\n",
      " 0.01285293 0.00353601 0.00300583 0.00325871 0.00098895]\n",
      "8\n",
      "0.8799586819287225\n",
      "\n",
      "####################\n",
      "Офіс, школа, книги\n",
      "Введіть річ: Мишка\n",
      "[0.46759395 0.06858278 0.06869584 0.02932915 0.02174321 0.05622442\n",
      " 0.03604884 0.04348845 0.04535008 0.03904774 0.01613027 0.020911\n",
      " 0.02436575 0.02167408 0.01599594 0.02159715 0.00322136]\n",
      "0\n",
      "0.4675939486398838\n",
      "\n",
      "####################\n",
      "Не знаю\n",
      "Введіть річ: Ігрова мишка\n",
      "[0.0229564  0.01840206 0.01605495 0.00953845 0.0071399  0.82141213\n",
      " 0.01048678 0.01178519 0.01213404 0.01133614 0.00592863 0.00753486\n",
      " 0.01024534 0.01813115 0.0054655  0.00723353 0.00421494]\n",
      "5\n",
      "0.8214121283279183\n",
      "\n",
      "####################\n",
      "Товари для геймерів\n",
      "Введіть річ: Комп'ютерна мишка\n",
      "[0.54847061 0.08423647 0.05482186 0.01535307 0.01189491 0.05185252\n",
      " 0.02787323 0.03482309 0.05667388 0.01803717 0.00916845 0.02125734\n",
      " 0.01630638 0.01520242 0.01157399 0.01871162 0.00374299]\n",
      "0\n",
      "0.5484706141247995\n",
      "\n",
      "####################\n",
      "Не знаю\n",
      "Введіть річ: +\n"
     ]
    }
   ],
   "source": [
    "while True:\n",
    "    inpt = input(\"Введіть річ: \")\n",
    "    if inpt == \"+\":\n",
    "        break\n",
    "    model = SVC_model_pipeline\n",
    "    proc = model.predict_proba([inpt])[0]\n",
    "    kef = np.argmax(proc)\n",
    "    value = proc[kef]\n",
    "    print(proc)\n",
    "    print(kef)\n",
    "    print(value)\n",
    "    print(\"\\n\" + \"#\"*20)\n",
    "    if value >= 0.65:\n",
    "        print(get_class_name(model, inpt))\n",
    "    else:\n",
    "        print(\"Не знаю\")"
   ]
  },
  {
   "cell_type": "code",
   "execution_count": null,
   "id": "1fb88cd5",
   "metadata": {},
   "outputs": [],
   "source": []
  }
 ],
 "metadata": {
  "kernelspec": {
   "display_name": "Python 3 (ipykernel)",
   "language": "python",
   "name": "python3"
  },
  "language_info": {
   "codemirror_mode": {
    "name": "ipython",
    "version": 3
   },
   "file_extension": ".py",
   "mimetype": "text/x-python",
   "name": "python",
   "nbconvert_exporter": "python",
   "pygments_lexer": "ipython3",
   "version": "3.9.12"
  }
 },
 "nbformat": 4,
 "nbformat_minor": 5
}
